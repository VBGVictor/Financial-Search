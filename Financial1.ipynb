{
  "nbformat": 4,
  "nbformat_minor": 0,
  "metadata": {
    "colab": {
      "provenance": [],
      "collapsed_sections": [],
      "authorship_tag": "ABX9TyMjlzDrv3A/Mdh6mdo6Dg9z",
      "include_colab_link": true
    },
    "kernelspec": {
      "name": "python3",
      "display_name": "Python 3"
    },
    "language_info": {
      "name": "python"
    }
  },
  "cells": [
    {
      "cell_type": "markdown",
      "metadata": {
        "id": "view-in-github",
        "colab_type": "text"
      },
      "source": [
        "<a href=\"https://colab.research.google.com/github/VBGVictor/Financial-Search/blob/main/Financial1.ipynb\" target=\"_parent\"><img src=\"https://colab.research.google.com/assets/colab-badge.svg\" alt=\"Open In Colab\"/></a>"
      ]
    },
    {
      "cell_type": "code",
      "execution_count": null,
      "metadata": {
        "id": "cfLSKIO1oLBF"
      },
      "outputs": [],
      "source": [
        "import pandas as pd\n",
        "import io\n",
        "import requests\n",
        "\n",
        "url = \"https://www.fundamentus.com.br/detalhes.php\"\n",
        "\n",
        "header = { #Este comando serve para acessar um site que o request não de certo, agindo como se fosse acessado como um user\n",
        "    \"User-Agent\": \"Mozilla/5.0 (X11; Linux x86_64) AppleWebKit/537.36 (KHTML, like Gecko) Chrome/51.0.2704.103 Safari/537.36\",\n",
        "    \"X-Requested-With\": \"XMLHttpRequest\"\n",
        "}\n",
        "\n",
        "r = requests.get(url, headers=header)\n",
        "d   = pd.read_html(r.text) #Transforma o Resquest200 em um texto legível\n",
        "#Assim irá se tornar uma lista e pegando o primeiro elemento da lista é o DataFrame\n",
        "df  = d[0]\n",
        "df"
      ]
    },
    {
      "cell_type": "code",
      "source": [
        "base_url = \"https://www.fundamentus.com.br/detalhes.php?papel=\" #Pegue o certo da internet da pagina que se deseja\n",
        "name     = list(df[\"Papel\"])\n",
        "comercial= list(df[\"Nome Comercial\"])   # Listas criadas e armazenaram as informações da base de dados acessada acima\n",
        "print(name[0])\n",
        "print(comercial[0])"
      ],
      "metadata": {
        "id": "JNtLwiL5Zrcx"
      },
      "execution_count": null,
      "outputs": []
    },
    {
      "cell_type": "code",
      "source": [
        "i = 0\n",
        "print(\"Leitura dos dados da empresa \" + name[i])\n",
        "filename = base_url + str(name[i]) # Mostra a url do papel escolhido segundo a posição dele na lista criada acima\n",
        "r1 = requests.get(filename, headers = header)\n",
        "dt1 = pd.read_html(r1.text)\n",
        "dt1[2]                                                            #Cada tabela de 'dt1' é uma posição na lista"
      ],
      "metadata": {
        "id": "cdptflP9a-UK"
      },
      "execution_count": null,
      "outputs": []
    },
    {
      "cell_type": "code",
      "source": [
        "#Código de verificação de Yield esta correto\n",
        "\n",
        "yi = 0.0\n",
        "if (len(dt1) > 1):      #Vrifica se a tabela existe\n",
        "  tab = dt1[2]\n",
        "  m,n = tab.shape      #Verifica o tamanho da tabela\n",
        "  if(m > 7):\n",
        "    if(n > 2):\n",
        "      yi = tab.iloc[8,3]\n",
        "yi                     #Este é o dividend yield\n"
      ],
      "metadata": {
        "id": "9VK2tpBXhfr_"
      },
      "execution_count": null,
      "outputs": []
    },
    {
      "cell_type": "code",
      "source": [
        "                                                  \n",
        "                                                  #JUNÇÃO DE TODOS OS ACIMA E APERFEIÇÕES!!!\n",
        "\n",
        "import pandas as pd\n",
        "import io\n",
        "import requests\n",
        "\n",
        "\n",
        "header = { \n",
        "    \"User-Agent\": \"Mozilla/5.0 (X11; Linux x86_64) AppleWebKit/537.36 (KHTML, like Gecko) Chrome/51.0.2704.103 Safari/537.36\",\n",
        "    \"X-Requested-With\": \"XMLHttpRequest\"\n",
        "}\n",
        "\n",
        "def readDataYield(name):\n",
        "  print(\"Leitura dos dados da empresa \" + name)\n",
        "  filename = base_url + str(name) \n",
        "  r = requests.get(filename, headers = header)\n",
        "  dt = pd.read_html(r.text)\n",
        "\n",
        "  yi = 0.0\n",
        "  if (len(dt) > 1):     \n",
        "   tab = dt[2]\n",
        "   m,n = tab.shape      \n",
        "   if(m > 7):\n",
        "    if(n > 2):\n",
        "     yi = tab.iloc[8,3]\n",
        "    else:\n",
        "      print(\"Não há dados!\")\n",
        "   else:\n",
        "     print(\"Não há dados!\")\n",
        "  else:\n",
        "    print(\"Não há dados!\")\n",
        "\n",
        "  return yi\n",
        "\n",
        "#Parte 1: Leitura das siglas das empresas\n",
        "url = \"https://www.fundamentus.com.br/detalhes.php\"\n",
        "r = requests.get(url, headers=header)\n",
        "d   = pd.read_html(r.text)\n",
        "df = d[0]\n",
        "\n",
        "base_url = \"https://www.fundamentus.com.br/detalhes.php?papel=\" \n",
        "name     = list(df[\"Papel\"])\n",
        "comercial= list(df[\"Nome Comercial\"])  \n",
        "\n",
        "dk = pd.DataFrame(columns=[\"Nome\", \"Sigla\", \"Div. Yield\"]) # Lista de Div. Yield do site\n",
        "\n",
        "for i in range(0, len(name)): #Percorrer a lista aprtir da posição 0\n",
        " yi  = readDataYield(name[i]) #Colher posição do Div. Yield na lista\n",
        " dk.loc[i] = [comercial[i], name[i], yi] #Ler e identificar os dados da variavel lista que contem os nomes (Tickers) das empresas e mostrar o div yield\n",
        "\n"
      ],
      "metadata": {
        "id": "G94mrmJJlOpW"
      },
      "execution_count": null,
      "outputs": []
    },
    {
      "cell_type": "code",
      "source": [
        "dts = dk.astype(str)\n",
        "dts['Div. Yield'] = dts['Div. Yield'].str.replace('%','') #Retira o '%' da string \n",
        "dts['Div. Yield'] = dts['Div. Yield'].str.replace('.','')\n",
        "dts['Div. Yield'] = dts['Div. Yield'].str.replace(',','.') #Troca a ',' por '.' na string\n",
        "dts['Div. Yield'] = dts['Div. Yield'].astype(float)\n",
        "dts.sort_values(by=['Div. Yield'], inplace=True, ascending=False)\n",
        "dts.head(30)"
      ],
      "metadata": {
        "id": "kXtUdujUxywX"
      },
      "execution_count": null,
      "outputs": []
    },
    {
      "cell_type": "code",
      "source": [
        "                                                  \n",
        "                                                  #JUNÇÃO DE TODOS OS ACIMA E APERFEIÇÕES!!!\n",
        "\n",
        "import pandas as pd\n",
        "import io\n",
        "import requests\n",
        "\n",
        "\n",
        "header = { \n",
        "    \"User-Agent\": \"Mozilla/5.0 (X11; Linux x86_64) AppleWebKit/537.36 (KHTML, like Gecko) Chrome/51.0.2704.103 Safari/537.36\",\n",
        "    \"X-Requested-With\": \"XMLHttpRequest\"\n",
        "}\n",
        "\n",
        "def readDataYield(name):\n",
        "  print(\"Leitura dos dados da empresa \" + name)\n",
        "  filename = base_url + str(name) \n",
        "  r = requests.get(filename, headers = header)\n",
        "  dt = pd.read_html(r.text)\n",
        "\n",
        "  yi = 0.0\n",
        "  if (len(dt) > 1):     \n",
        "   tab = dt[2]\n",
        "   m,n = tab.shape      \n",
        "   if(m > 7):\n",
        "    if(n > 2):\n",
        "     yi = tab.iloc[8,3]\n",
        "    else:\n",
        "      print(\"Não há dados!\")\n",
        "   else:\n",
        "     print(\"Não há dados!\")\n",
        "  else:\n",
        "    print(\"Não há dados!\")\n",
        "\n",
        "  return yi\n",
        "\n",
        "#Parte 1: Leitura das siglas das empresas\n",
        "url = \"https://www.fundamentus.com.br/detalhes.php\"\n",
        "r   = requests.get(url, headers=header)\n",
        "d   = pd.read_html(r.text)\n",
        "df  = d[0]\n",
        "\n",
        "base_url = \"https://www.fundamentus.com.br/detalhes.php?papel=\" \n",
        "name     = list(df[\"Papel\"])\n",
        "comercial= list(df[\"Nome Comercial\"])  \n",
        "\n",
        "dk = pd.DataFrame(columns=[\"Nome\", \"Sigla\", \"Div. Yield\"]) \n",
        "\n",
        "for i in range(0, len(name)-1018): \n",
        " yi  = readDataYield(name[i]) \n",
        " dk.loc[i] = [comercial[i], name[i], yi]\n",
        " \n",
        "\n",
        "dts = dk.astype(str)\n",
        "dts['Div. Yield'] = dts['Div. Yield'].str.replace('%','')  #Retira o '%' da string \n",
        "dts['Div. Yield'] = dts['Div. Yield'].str.replace('.','')\n",
        "dts['Div. Yield'] = dts['Div. Yield'].str.replace(',','.') #Troca a ',' por '.' na string\n",
        "dts['Div. Yield'] = dts['Div. Yield'].astype(float)\n",
        "dts.sort_values(by=['Div. Yield'], inplace=True, ascending=False)\n",
        "dts.head(10)\n",
        "\n"
      ],
      "metadata": {
        "id": "8Oa8rXO70HwM"
      },
      "execution_count": null,
      "outputs": []
    },
    {
      "cell_type": "markdown",
      "source": [
        "# **Projeto simples de busca de dados financeiros**"
      ],
      "metadata": {
        "id": "QWl4ZU9XJ_LH"
      }
    },
    {
      "cell_type": "code",
      "source": [
        "import pandas as pd\n",
        "import io\n",
        "import requests\n",
        "\n",
        "\n",
        "header = { \n",
        "    \"User-Agent\": \"Mozilla/5.0 (X11; Linux x86_64) AppleWebKit/537.36 (KHTML, like Gecko) Chrome/51.0.2704.103 Safari/537.36\",\n",
        "    \"X-Requested-With\": \"XMLHttpRequest\"\n",
        "}\n",
        "\n",
        "def readDataYield(name):\n",
        "  filename = base_url + str(name) \n",
        "  readQuest = requests.get(filename, headers = header)\n",
        "  data = pd.read_html(r.text)\n",
        "\n",
        "  Yield = 0.0\n",
        "  if (len(data) > 1):     \n",
        "   tab = data[2]\n",
        "   m,n = tab.shape      \n",
        "   if(m > 7):\n",
        "    if(n > 2):\n",
        "     Yield = tab.iloc[8,3]\n",
        "\n",
        "  return Yield\n",
        "\n",
        "\n",
        "url = \"https://www.fundamentus.com.br/detalhes.php\"\n",
        "firstRequest   = requests.get(url, headers=header)\n",
        "data   = pd.read_html(firstRequest.text)\n",
        "dataFrame  = d[0]\n",
        "\n",
        "base_url = \"https://www.fundamentus.com.br/detalhes.php?papel=\" \n",
        "name     = list(df[\"Papel\"])\n",
        "comercial= list(df[\"Nome Comercial\"])  \n",
        "dataShow = pd.DataFrame(columns=[\"Nome\", \"Sigla\", \"Div. Yield\"]) \n",
        "\n",
        "print(\"Em execução... \")\n",
        "for i in range(0, len(name)): \n",
        " divYield  = readDataYield(name[i]) \n",
        " dataShow.loc[i] = [comercial[i], name[i], divYield]\n",
        "print(\"Carregamento completo!\")\n",
        "\n",
        "dataReplace = dataShow.astype(str)\n",
        "dataReplace['Div. Yield'] = dataReplace['Div. Yield'].str.replace('%','')   \n",
        "dataReplace['Div. Yield'] = dataReplace['Div. Yield'].str.replace('.','')\n",
        "dataReplace['Div. Yield'] = dataReplace['Div. Yield'].str.replace(',','.') \n",
        "dataReplace['Div. Yield'] = dataReplace['Div. Yield'].astype(float)\n",
        "\n",
        "print()\n",
        "print(\"Segue dados abaixo: \")\n",
        "print()\n",
        "print(dataReplace.head())\n",
        "print()\n",
        "print(dataReplace.max())\n",
        "print()\n",
        "print(dataReplace.min())"
      ],
      "metadata": {
        "id": "DAw2EVeNdzmM",
        "colab": {
          "base_uri": "https://localhost:8080/"
        },
        "outputId": "ab9beed7-1c5a-4c8e-9acd-d3eb393ece47"
      },
      "execution_count": 6,
      "outputs": [
        {
          "output_type": "stream",
          "name": "stdout",
          "text": [
            "Em execução... \n",
            "Carregamento completo!\n",
            "Segue dados abaixo: \n",
            "\n",
            "          Nome  Sigla  Div. Yield\n",
            "0       ALLIAR  AALR3         0.0\n",
            "1   ABC Brasil  ABCB3         0.0\n",
            "2   ABC Brasil  ABCB4         0.0\n",
            "3    AMBEV S/A  ABEV3         0.0\n",
            "4  SOMOS EDUCA  ABRE3         0.0\n",
            "\n",
            "Nome            nan\n",
            "Sigla         ZAMP3\n",
            "Div. Yield      0.0\n",
            "dtype: object\n",
            "\n",
            "Nome          3R PETROLEUM\n",
            "Sigla                AALR3\n",
            "Div. Yield             0.0\n",
            "dtype: object\n"
          ]
        },
        {
          "output_type": "stream",
          "name": "stderr",
          "text": [
            "/usr/local/lib/python3.7/dist-packages/ipykernel_launcher.py:45: FutureWarning: The default value of regex will change from True to False in a future version. In addition, single character regular expressions will *not* be treated as literal strings when regex=True.\n"
          ]
        }
      ]
    }
  ]
}